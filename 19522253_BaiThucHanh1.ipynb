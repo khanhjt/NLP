{
  "nbformat": 4,
  "nbformat_minor": 0,
  "metadata": {
    "colab": {
      "provenance": [],
      "toc_visible": true
    },
    "kernelspec": {
      "name": "python3",
      "display_name": "Python 3"
    },
    "language_info": {
      "name": "python"
    }
  },
  "cells": [
    {
      "cell_type": "markdown",
      "metadata": {
        "id": "1SRu75LO8xV6"
      },
      "source": [
        "# LAB 01 - PHÂN LỚP VĂN BẢN CƠ BẢN"
      ]
    },
    {
      "cell_type": "markdown",
      "metadata": {
        "id": "2RPQEYQ4CYHS"
      },
      "source": [
        "## Naive Bayes cơ bản"
      ]
    },
    {
      "cell_type": "markdown",
      "metadata": {
        "id": "EqCpV41RluFK"
      },
      "source": [
        "### Bộ dữ liệu 1"
      ]
    },
    {
      "cell_type": "code",
      "metadata": {
        "id": "YHsSKqIr3cia"
      },
      "source": [
        "train = [[\"just plain boring\", \"-\"],\n",
        "         [\"entirely predictable and lacks energy\", \"-\"],\n",
        "         [\"no surprises and very few laughs\", \"-\"],\n",
        "         [\"very powerful\", \"+\"],\n",
        "         [\"the most fun film of the summer\", \"+\"]]\n",
        "\n",
        "test = \"predictable with no fun\""
      ],
      "execution_count": null,
      "outputs": []
    },
    {
      "cell_type": "markdown",
      "metadata": {
        "id": "YVF2kq70xy64"
      },
      "source": [
        "### Bộ dữ liệu 2"
      ]
    },
    {
      "cell_type": "code",
      "metadata": {
        "id": "MqwRsm-uxy66"
      },
      "source": [
        "train2 = [[\"sản_phẩm A rất tốt.\", \"+\"],\n",
        "         [\"tôi không thích sản_phẩm A.\", \"-\"],\n",
        "         [\"màu_sắc của A thật tốt.\", \"+\"],\n",
        "         [\"sản_phẩm A thật kinh_khủng.\", \"-\"]]\n",
        "\n",
        "test2 = [\"sản_phẩm A khá tốt.\", \"màu_sắc quá kinh_khủng.\"]"
      ],
      "execution_count": null,
      "outputs": []
    },
    {
      "cell_type": "markdown",
      "metadata": {
        "id": "zR2rtkqipDQq"
      },
      "source": [
        "### Xây dựng model theo công thức NAIVE BAYES"
      ]
    },
    {
      "cell_type": "code",
      "metadata": {
        "id": "I7rP6NDrbl56"
      },
      "source": [
        "Word_Positive = [] # Tập các từ có nhãn là '+'\n",
        "Word_Negative = [] # Tập các từ có nhãn là '-'\n",
        "Word_Total = [] # Tập từ vựng\n",
        "y_train = [] # Tập các nhãn của các câu\n",
        "Prior_Positive = 0 # Xác suất của nhã '+'\n",
        "Prior_Negative = 0 # Xác suất của nhãn '-'\n",
        "\n",
        "for s in train:\n",
        "  if s[1] == '+':\n",
        "    Word_Positive.extend(s[0].split())\n",
        "    Prior_Positive += 1\n",
        "  else:\n",
        "    Word_Negative.extend(s[0].split())\n",
        "    Prior_Negative += 1\n",
        "  y_train.append(s[1])\n",
        "\n",
        "Word_Total = set(Word_Positive + Word_Negative)\n",
        "\n",
        "Count_Negative = len(Word_Negative) # Số lượng các từ có nhãn '-'\n",
        "Count_Positive = len(Word_Positive) # Số lượng các từ có nhãn '+'\n",
        "Count_Total = len(Word_Total) # Tổng số lượng từ khác nhau có trong tập từ vựng\n",
        "Prior_Positive /= len(y_train)\n",
        "Prior_Negative /= len(y_train)"
      ],
      "execution_count": null,
      "outputs": []
    },
    {
      "cell_type": "code",
      "metadata": {
        "id": "JWhgfi5qYbfR"
      },
      "source": [
        "# Drop 'with'\n",
        "test_new = test.split()\n",
        "test_new.remove('with')"
      ],
      "execution_count": null,
      "outputs": []
    },
    {
      "cell_type": "code",
      "metadata": {
        "id": "eGeyUJn_Ybh0"
      },
      "source": [
        "# Likelihoods from training\n",
        "P_Negative = []\n",
        "P_Positive = []\n",
        "\n",
        "for i in test_new:\n",
        "  a = Word_Negative.count(i)\n",
        "  b = Word_Positive.count(i)\n",
        "  P_Negative.append((a+1)/(Count_Negative+Count_Total))\n",
        "  P_Positive.append((b+1)/(Count_Positive+Count_Total))"
      ],
      "execution_count": null,
      "outputs": []
    },
    {
      "cell_type": "code",
      "metadata": {
        "colab": {
          "base_uri": "https://localhost:8080/"
        },
        "id": "vqOKRcaUiFzW",
        "outputId": "76124a94-c19f-40c7-afee-ae14780d97e2"
      },
      "source": [
        "# Scoring the test set\n",
        "P_test_Positive = Prior_Positive\n",
        "P_test_Negative = Prior_Negative\n",
        "\n",
        "for i in range(len(test_new)):\n",
        "  P_test_Positive *= P_Positive[i]\n",
        "  P_test_Negative *= P_Negative[i]\n",
        "\n",
        "print('P(+)P(S|+) =', P_test_Positive)\n",
        "print('P(-)P(S|-) =', P_test_Negative)\n",
        "\n",
        "if P_test_Positive > P_test_Negative:\n",
        "  print('The class of \"{}\" is +'.format(test))\n",
        "else:\n",
        "  print('The class of \"{}\" is -'.format(test))"
      ],
      "execution_count": null,
      "outputs": [
        {
          "output_type": "stream",
          "name": "stdout",
          "text": [
            "P(+)P(S|+) = 3.2801672885317154e-05\n",
            "P(-)P(S|-) = 6.106248727864848e-05\n",
            "The class of \"predictable with no fun\" is -\n"
          ]
        }
      ]
    },
    {
      "cell_type": "markdown",
      "metadata": {
        "id": "Q2A5v0qhpH7z"
      },
      "source": [
        "### Xây dựng model sử dụng thư viện sklearn."
      ]
    },
    {
      "cell_type": "markdown",
      "metadata": {
        "id": "vAjFtF4YCwvS"
      },
      "source": [
        "#### Import thư viện cần thiết"
      ]
    },
    {
      "cell_type": "code",
      "metadata": {
        "id": "I1dukBpqYOdV"
      },
      "source": [
        "import pandas as pd\n",
        "import numpy as np\n",
        "\n",
        "\n",
        "from sklearn.naive_bayes import MultinomialNB\n",
        "from sklearn.feature_extraction.text import CountVectorizer\n",
        "from sklearn.preprocessing import LabelEncoder"
      ],
      "execution_count": null,
      "outputs": []
    },
    {
      "cell_type": "markdown",
      "metadata": {
        "id": "F22ycypTC0VL"
      },
      "source": [
        "#### Xử lý dữ liệu"
      ]
    },
    {
      "cell_type": "code",
      "metadata": {
        "id": "rRnhZR7nmb6r"
      },
      "source": [
        "X_train = []\n",
        "y_train = []\n",
        "X_test = [test]\n",
        "\n",
        "for s in train:\n",
        "  X_train.append(s[0])\n",
        "  y_train.append(s[1])"
      ],
      "execution_count": null,
      "outputs": []
    },
    {
      "cell_type": "markdown",
      "metadata": {
        "id": "BP8uYwZwsLZu"
      },
      "source": [
        "#### Mã hoá văn bản"
      ]
    },
    {
      "cell_type": "code",
      "metadata": {
        "id": "OUnUJEIhoPWP"
      },
      "source": [
        "cv = CountVectorizer()\n",
        "cv.fit(X_train)\n",
        "X_train_new = cv.transform(X_train)"
      ],
      "execution_count": null,
      "outputs": []
    },
    {
      "cell_type": "code",
      "metadata": {
        "colab": {
          "base_uri": "https://localhost:8080/"
        },
        "id": "NX4AOMoVuhIp",
        "outputId": "39ac4e74-43be-4b42-9aa3-0878ca7ac281"
      },
      "source": [
        "cv.get_feature_names()"
      ],
      "execution_count": null,
      "outputs": [
        {
          "output_type": "stream",
          "name": "stderr",
          "text": [
            "/usr/local/lib/python3.7/dist-packages/sklearn/utils/deprecation.py:87: FutureWarning: Function get_feature_names is deprecated; get_feature_names is deprecated in 1.0 and will be removed in 1.2. Please use get_feature_names_out instead.\n",
            "  warnings.warn(msg, category=FutureWarning)\n"
          ]
        },
        {
          "output_type": "execute_result",
          "data": {
            "text/plain": [
              "['and',\n",
              " 'boring',\n",
              " 'energy',\n",
              " 'entirely',\n",
              " 'few',\n",
              " 'film',\n",
              " 'fun',\n",
              " 'just',\n",
              " 'lacks',\n",
              " 'laughs',\n",
              " 'most',\n",
              " 'no',\n",
              " 'of',\n",
              " 'plain',\n",
              " 'powerful',\n",
              " 'predictable',\n",
              " 'summer',\n",
              " 'surprises',\n",
              " 'the',\n",
              " 'very']"
            ]
          },
          "metadata": {},
          "execution_count": 47
        }
      ]
    },
    {
      "cell_type": "code",
      "metadata": {
        "id": "11eGbgGJpeRG"
      },
      "source": [
        "X_test_new = cv.transform(X_test)"
      ],
      "execution_count": null,
      "outputs": []
    },
    {
      "cell_type": "markdown",
      "metadata": {
        "id": "AZjtVbJntKZo"
      },
      "source": [
        "#### Mã hoá nhãn"
      ]
    },
    {
      "cell_type": "code",
      "metadata": {
        "id": "f9NQwBcBssm2"
      },
      "source": [
        "le = LabelEncoder()\n",
        "le.fit(y_train)\n",
        "y_train_new = le.transform(y_train)"
      ],
      "execution_count": null,
      "outputs": []
    },
    {
      "cell_type": "code",
      "metadata": {
        "colab": {
          "base_uri": "https://localhost:8080/"
        },
        "id": "TKC45Eu5uQBQ",
        "outputId": "60a6febf-bec4-40da-f411-79af21ea39ab"
      },
      "source": [
        "y_train_new"
      ],
      "execution_count": null,
      "outputs": [
        {
          "output_type": "execute_result",
          "data": {
            "text/plain": [
              "array([1, 1, 1, 0, 0])"
            ]
          },
          "metadata": {},
          "execution_count": 50
        }
      ]
    },
    {
      "cell_type": "markdown",
      "metadata": {
        "id": "x9xJBPHluGYB"
      },
      "source": [
        "#### Training model"
      ]
    },
    {
      "cell_type": "code",
      "metadata": {
        "colab": {
          "base_uri": "https://localhost:8080/"
        },
        "id": "ywWwfpf7zlOP",
        "outputId": "14087409-d0b7-457f-80ff-b44b62923caa"
      },
      "source": [
        "clf = MultinomialNB()\n",
        "clf.fit(X_train_new, y_train_new)"
      ],
      "execution_count": null,
      "outputs": [
        {
          "output_type": "execute_result",
          "data": {
            "text/plain": [
              "MultinomialNB()"
            ]
          },
          "metadata": {},
          "execution_count": 51
        }
      ]
    },
    {
      "cell_type": "markdown",
      "metadata": {
        "id": "EDBMSEXyuoB1"
      },
      "source": [
        "#### Predict"
      ]
    },
    {
      "cell_type": "code",
      "metadata": {
        "id": "3gN3EbXsrRBJ"
      },
      "source": [
        "y_pred = clf.predict(X_test_new)"
      ],
      "execution_count": null,
      "outputs": []
    },
    {
      "cell_type": "code",
      "metadata": {
        "colab": {
          "base_uri": "https://localhost:8080/"
        },
        "id": "yJAAsS4uuPgD",
        "outputId": "de7c9b05-243e-47ed-8af1-5fce06b9b014"
      },
      "source": [
        "print('The class of \"{}\" is {}'.format(test, le.inverse_transform(y_pred)[0]))"
      ],
      "execution_count": null,
      "outputs": [
        {
          "output_type": "stream",
          "name": "stdout",
          "text": [
            "The class of \"predictable with no fun\" is -\n"
          ]
        }
      ]
    },
    {
      "cell_type": "markdown",
      "metadata": {
        "id": "RPPYN9fLC7h-"
      },
      "source": [
        "## N-gram\n",
        "\n",
        "Xây dựng model với 2-gram"
      ]
    },
    {
      "cell_type": "markdown",
      "metadata": {
        "id": "wZC6drmUvEKS"
      },
      "source": [
        "#### Mã hoá văn bản"
      ]
    },
    {
      "cell_type": "code",
      "metadata": {
        "id": "eZAT-rrKv4w2"
      },
      "source": [
        "cv2 = CountVectorizer(analyzer='word', ngram_range=(2,2))\n",
        "cv2.fit(X_train)\n",
        "X_train_new2 = cv2.transform(X_train)"
      ],
      "execution_count": null,
      "outputs": []
    },
    {
      "cell_type": "code",
      "metadata": {
        "colab": {
          "base_uri": "https://localhost:8080/"
        },
        "id": "d-51vSFstwn8",
        "outputId": "3a65ca94-e44d-46b4-845c-cec11f164d56"
      },
      "source": [
        "cv2.get_feature_names()"
      ],
      "execution_count": null,
      "outputs": [
        {
          "output_type": "stream",
          "name": "stderr",
          "text": [
            "/usr/local/lib/python3.7/dist-packages/sklearn/utils/deprecation.py:87: FutureWarning: Function get_feature_names is deprecated; get_feature_names is deprecated in 1.0 and will be removed in 1.2. Please use get_feature_names_out instead.\n",
            "  warnings.warn(msg, category=FutureWarning)\n"
          ]
        },
        {
          "output_type": "execute_result",
          "data": {
            "text/plain": [
              "['and lacks',\n",
              " 'and very',\n",
              " 'entirely predictable',\n",
              " 'few laughs',\n",
              " 'film of',\n",
              " 'fun film',\n",
              " 'just plain',\n",
              " 'lacks energy',\n",
              " 'most fun',\n",
              " 'no surprises',\n",
              " 'of the',\n",
              " 'plain boring',\n",
              " 'predictable and',\n",
              " 'surprises and',\n",
              " 'the most',\n",
              " 'the summer',\n",
              " 'very few',\n",
              " 'very powerful']"
            ]
          },
          "metadata": {},
          "execution_count": 55
        }
      ]
    },
    {
      "cell_type": "code",
      "metadata": {
        "id": "lpWiVXZ0vEKT"
      },
      "source": [
        "X_test_new2 = cv2.transform(X_test)"
      ],
      "execution_count": null,
      "outputs": []
    },
    {
      "cell_type": "markdown",
      "metadata": {
        "id": "8FJLZCvXvEKU"
      },
      "source": [
        "#### Mã hoá nhãn"
      ]
    },
    {
      "cell_type": "code",
      "metadata": {
        "id": "nvSpj9_SvEKU"
      },
      "source": [
        "le = LabelEncoder()\n",
        "le.fit(y_train)\n",
        "y_train_new2 = le.transform(y_train)"
      ],
      "execution_count": null,
      "outputs": []
    },
    {
      "cell_type": "code",
      "metadata": {
        "colab": {
          "base_uri": "https://localhost:8080/"
        },
        "id": "dVX8mM3PvEKU",
        "outputId": "9d7959b1-6f8d-4dc1-d8e2-5df47861c18b"
      },
      "source": [
        "y_train_new2"
      ],
      "execution_count": null,
      "outputs": [
        {
          "output_type": "execute_result",
          "data": {
            "text/plain": [
              "array([1, 1, 1, 0, 0])"
            ]
          },
          "metadata": {},
          "execution_count": 58
        }
      ]
    },
    {
      "cell_type": "markdown",
      "metadata": {
        "id": "GtYVx7BGvEKW"
      },
      "source": [
        "#### Training model"
      ]
    },
    {
      "cell_type": "code",
      "metadata": {
        "colab": {
          "base_uri": "https://localhost:8080/"
        },
        "id": "6DCy27LvvEKW",
        "outputId": "202df6a4-c34a-4f14-ee73-7e85f0fb613f"
      },
      "source": [
        "clf2 = MultinomialNB()\n",
        "clf2.fit(X_train_new2, y_train_new2)"
      ],
      "execution_count": null,
      "outputs": [
        {
          "output_type": "execute_result",
          "data": {
            "text/plain": [
              "MultinomialNB()"
            ]
          },
          "metadata": {},
          "execution_count": 59
        }
      ]
    },
    {
      "cell_type": "markdown",
      "metadata": {
        "id": "V_zIYntbvEKW"
      },
      "source": [
        "#### Predict"
      ]
    },
    {
      "cell_type": "code",
      "metadata": {
        "id": "Y3s2U1UGvEKX"
      },
      "source": [
        "y_pred2 = clf2.predict(X_test_new2)"
      ],
      "execution_count": null,
      "outputs": []
    },
    {
      "cell_type": "code",
      "metadata": {
        "colab": {
          "base_uri": "https://localhost:8080/"
        },
        "id": "oHcq7G2PvEKX",
        "outputId": "2a020ca9-c9d1-434d-ceba-73c09c9b42a3"
      },
      "source": [
        "print('The class of \"{}\" is {}'.format(test, le.inverse_transform(y_pred2)[0]))"
      ],
      "execution_count": null,
      "outputs": [
        {
          "output_type": "stream",
          "name": "stdout",
          "text": [
            "The class of \"predictable with no fun\" is -\n"
          ]
        }
      ]
    },
    {
      "cell_type": "markdown",
      "metadata": {
        "id": "CQv4F2CMxIEQ"
      },
      "source": [
        "**Nhận xét**: Kết quả giống với model 1-gram"
      ]
    },
    {
      "cell_type": "markdown",
      "metadata": {
        "id": "g_IFU3Sxw4LF"
      },
      "source": [
        "## Bài tập vận dụng"
      ]
    },
    {
      "cell_type": "markdown",
      "metadata": {
        "id": "4U2c7aO-x2zw"
      },
      "source": [
        "### Bài tập 1: Hiện thực lại mô hình Naive Bayes bằng tay cho Bộ dữ liệu 1 và Bộ dữ liệu 2."
      ]
    },
    {
      "cell_type": "markdown",
      "metadata": {
        "id": "ji7N6HphchKL"
      },
      "source": [
        "#### Hiện thực lại mô hình Naive Bayes bằng tay cho Bộ dữ liệu 1"
      ]
    },
    {
      "cell_type": "code",
      "metadata": {
        "id": "YRxRRwegchKV"
      },
      "source": [
        "Word_Positive = [] # Tập các từ có nhãn là '+'\n",
        "Word_Negative = [] # Tập các từ có nhãn là '-'\n",
        "Word_Total = [] # Tập từ vựng\n",
        "y_train = [] # Tập các nhãn của các câu\n",
        "Prior_Positive = 0 # Xác suất của nhã '+'\n",
        "Prior_Negative = 0 # Xác suất của nhãn '-'\n",
        "\n",
        "for s in train:\n",
        "  if s[1] == '+':\n",
        "    Word_Positive.extend(s[0].split())\n",
        "    Prior_Positive += 1\n",
        "  else:\n",
        "    Word_Negative.extend(s[0].split())\n",
        "    Prior_Negative += 1\n",
        "  y_train.append(s[1])\n",
        "\n",
        "Word_Total = set(Word_Positive + Word_Negative)\n",
        "\n",
        "Count_Negative = len(Word_Negative) # Số lượng các từ có nhãn '-'\n",
        "Count_Positive = len(Word_Positive) # Số lượng các từ có nhãn '+'\n",
        "Count_Total = len(Word_Total) # Tổng số lượng từ khác nhau có trong tập từ vựng\n",
        "Prior_Positive /= len(y_train)\n",
        "Prior_Negative /= len(y_train)"
      ],
      "execution_count": null,
      "outputs": []
    },
    {
      "cell_type": "code",
      "metadata": {
        "id": "E4VLaQM-chKY"
      },
      "source": [
        "# Drop 'with'\n",
        "test_new = test.split()\n",
        "test_new.remove('with')"
      ],
      "execution_count": null,
      "outputs": []
    },
    {
      "cell_type": "code",
      "metadata": {
        "id": "8K5Xt5CrchKY"
      },
      "source": [
        "# Likelihoods from training\n",
        "P_Negative = []\n",
        "P_Positive = []\n",
        "\n",
        "for i in test_new:\n",
        "  a = Word_Negative.count(i)\n",
        "  b = Word_Positive.count(i)\n",
        "  P_Negative.append((a+1)/(Count_Negative+Count_Total))\n",
        "  P_Positive.append((b+1)/(Count_Positive+Count_Total))"
      ],
      "execution_count": null,
      "outputs": []
    },
    {
      "cell_type": "code",
      "metadata": {
        "colab": {
          "base_uri": "https://localhost:8080/"
        },
        "id": "TjLX7rMLchKZ",
        "outputId": "1289597c-7dd1-4726-89df-b3f3cc5e0d27"
      },
      "source": [
        "# Scoring the test set\n",
        "P_test_Positive = Prior_Positive\n",
        "P_test_Negative = Prior_Negative\n",
        "\n",
        "for i in range(len(test_new)):\n",
        "  P_test_Positive *= P_Positive[i]\n",
        "  P_test_Negative *= P_Negative[i]\n",
        "\n",
        "print('P(+)P(S|+) =', P_test_Positive)\n",
        "print('P(-)P(S|-) =', P_test_Negative)\n",
        "\n",
        "if P_test_Positive > P_test_Negative:\n",
        "  print('The class of \"{}\" is +'.format(test))\n",
        "else:\n",
        "  print('The class of \"{}\" is -'.format(test))"
      ],
      "execution_count": null,
      "outputs": [
        {
          "output_type": "stream",
          "name": "stdout",
          "text": [
            "P(+)P(S|+) = 3.2801672885317154e-05\n",
            "P(-)P(S|-) = 6.106248727864848e-05\n",
            "The class of \"predictable with no fun\" is -\n"
          ]
        }
      ]
    },
    {
      "cell_type": "markdown",
      "metadata": {
        "id": "nWNuwtz3c1dS"
      },
      "source": [
        "#### Hiện thực lại mô hình Naive Bayes bằng tay cho Bộ dữ liệu 2"
      ]
    },
    {
      "cell_type": "code",
      "metadata": {
        "id": "Ma1gQWfSc1dV"
      },
      "source": [
        "Word_Positive2 = [] # Tập các từ có nhãn là '+'\n",
        "Word_Negative2 = [] # Tập các từ có nhãn là '-'\n",
        "Word_Total2 = [] # Tập từ vựng\n",
        "y_train2 = [] # Tập các nhãn của các câu\n",
        "Prior_Positive2 = 0 # Xác suất của nhã '+'\n",
        "Prior_Negative2 = 0 # Xác suất của nhãn '-'\n",
        "\n",
        "for s in train2:\n",
        "  if s[1] == '+':\n",
        "    Word_Positive2.extend(s[0].split())\n",
        "    Prior_Positive2 += 1\n",
        "  else:\n",
        "    Word_Negative2.extend(s[0].split())\n",
        "    Prior_Negative2 += 1\n",
        "  y_train2.append(s[1])\n",
        "\n",
        "Word_Total2 = set(Word_Positive2 + Word_Negative2)\n",
        "\n",
        "Count_Negative2 = len(Word_Negative2) # Số lượng các từ có nhãn '-'\n",
        "Count_Positive2 = len(Word_Positive2) # Số lượng các từ có nhãn '+'\n",
        "Count_Total2 = len(Word_Total2) # Tổng số lượng từ khác nhau có trong tập từ vựng\n",
        "Prior_Positive2 /= len(y_train2)\n",
        "Prior_Negative2 /= len(y_train2)"
      ],
      "execution_count": null,
      "outputs": []
    },
    {
      "cell_type": "code",
      "metadata": {
        "id": "gXI3Pe5bc1da"
      },
      "source": [
        "test_new2 = []\n",
        "for s in test2:\n",
        "  test_new2.append(s.split())"
      ],
      "execution_count": null,
      "outputs": []
    },
    {
      "cell_type": "code",
      "metadata": {
        "id": "IyqGVWeWc1db"
      },
      "source": [
        "# Likelihoods from training\n",
        "P_Negative2 = []\n",
        "P_Positive2 = []\n",
        "\n",
        "for s in test_new2:\n",
        "  t1 = []\n",
        "  t2 = []\n",
        "  for i in range(len(s)):\n",
        "    a = Word_Negative2.count(s[i])\n",
        "    b = Word_Positive2.count(s[i])\n",
        "    t1.append((a+1)/(Count_Negative2+Count_Total2))\n",
        "    t2.append((b+1)/(Count_Positive2+Count_Total2))\n",
        "  P_Negative2.append(t1)\n",
        "  P_Positive2.append(t2)"
      ],
      "execution_count": null,
      "outputs": []
    },
    {
      "cell_type": "code",
      "metadata": {
        "colab": {
          "base_uri": "https://localhost:8080/"
        },
        "id": "AtgraYDGc1dc",
        "outputId": "34b91884-3b8c-4eeb-d621-509e23c55e2d"
      },
      "source": [
        "# Scoring the test set\n",
        "P_test_Positive2 = [Prior_Positive2]*2\n",
        "P_test_Negative2 = [Prior_Negative2]*2\n",
        "\n",
        "for i in range(len(test_new2)):\n",
        "  for j in range(len(test_new2[i])):\n",
        "    P_test_Positive2[i] *= P_Positive2[i][j]\n",
        "    P_test_Negative2[i] *= P_Negative2[i][j]\n",
        "\n",
        "\n",
        "for i in range(len(test_new2)):\n",
        "  print('P(+)P(S|+) =', P_test_Positive2[i])\n",
        "  print('P(-)P(S|-) =', P_test_Negative2[i])\n",
        "  if P_test_Positive2[i] > P_test_Negative2[i]:\n",
        "    print('The class of \"{}\" is +'.format(test2[i]))\n",
        "  else:\n",
        "    print('The class of \"{}\" is -'.format(test2[i]))"
      ],
      "execution_count": null,
      "outputs": [
        {
          "output_type": "stream",
          "name": "stdout",
          "text": [
            "P(+)P(S|+) = 4.627701420704335e-05\n",
            "P(-)P(S|-) = 1.5425671402347783e-05\n",
            "The class of \"sản_phẩm A khá tốt.\" is +\n",
            "P(+)P(S|+) = 0.00010797969981643449\n",
            "P(-)P(S|-) = 0.00010797969981643449\n",
            "The class of \"màu_sắc quá kinh_khủng.\" is -\n"
          ]
        }
      ]
    },
    {
      "cell_type": "markdown",
      "metadata": {
        "id": "Dei1RqoKx-S7"
      },
      "source": [
        "### Bài tập 2: Hiện thực lại mô hình Naive Bayes bằng thư viện sklearn cho Bộ dữ liệu 1 và  Bộ dữ liệu 2. (Sử dụng CountVectorizer 1-gram)"
      ]
    },
    {
      "cell_type": "markdown",
      "metadata": {
        "id": "Wrwvcoexc_VB"
      },
      "source": [
        "#### Hiện thực lại mô hình Naive Bayes bằng thư viện sklearn cho Bộ dữ liệu 1"
      ]
    },
    {
      "cell_type": "markdown",
      "metadata": {
        "id": "fJX2S6qHIJ1N"
      },
      "source": [
        "##### Import thư viện cần thiết"
      ]
    },
    {
      "cell_type": "code",
      "metadata": {
        "id": "6gNBCcNtIJ1P"
      },
      "source": [
        "import pandas as pd\n",
        "import numpy as np\n",
        "\n",
        "\n",
        "from sklearn.naive_bayes import MultinomialNB\n",
        "from sklearn.feature_extraction.text import CountVectorizer\n",
        "from sklearn.preprocessing import LabelEncoder"
      ],
      "execution_count": null,
      "outputs": []
    },
    {
      "cell_type": "markdown",
      "metadata": {
        "id": "b2wXXgF8IJ1Q"
      },
      "source": [
        "##### Xử lý dữ liệu"
      ]
    },
    {
      "cell_type": "code",
      "metadata": {
        "id": "mx7KkZZMIJ1Q"
      },
      "source": [
        "X_train = []\n",
        "y_train = []\n",
        "X_test = [test]\n",
        "\n",
        "for s in train:\n",
        "  X_train.append(s[0])\n",
        "  y_train.append(s[1])"
      ],
      "execution_count": null,
      "outputs": []
    },
    {
      "cell_type": "markdown",
      "metadata": {
        "id": "ZM6ugOemIJ1R"
      },
      "source": [
        "##### Mã hoá văn bản"
      ]
    },
    {
      "cell_type": "code",
      "metadata": {
        "id": "3IGWAK9qIJ1S"
      },
      "source": [
        "cv = CountVectorizer()\n",
        "cv.fit(X_train)\n",
        "X_train_new = cv.transform(X_train)"
      ],
      "execution_count": null,
      "outputs": []
    },
    {
      "cell_type": "code",
      "metadata": {
        "colab": {
          "base_uri": "https://localhost:8080/"
        },
        "id": "JkMLL2YjIJ1S",
        "outputId": "6e0e717b-00be-45b2-f55c-44f81d78e87f"
      },
      "source": [
        "cv.get_feature_names()"
      ],
      "execution_count": null,
      "outputs": [
        {
          "output_type": "stream",
          "name": "stderr",
          "text": [
            "/usr/local/lib/python3.7/dist-packages/sklearn/utils/deprecation.py:87: FutureWarning: Function get_feature_names is deprecated; get_feature_names is deprecated in 1.0 and will be removed in 1.2. Please use get_feature_names_out instead.\n",
            "  warnings.warn(msg, category=FutureWarning)\n"
          ]
        },
        {
          "output_type": "execute_result",
          "data": {
            "text/plain": [
              "['and',\n",
              " 'boring',\n",
              " 'energy',\n",
              " 'entirely',\n",
              " 'few',\n",
              " 'film',\n",
              " 'fun',\n",
              " 'just',\n",
              " 'lacks',\n",
              " 'laughs',\n",
              " 'most',\n",
              " 'no',\n",
              " 'of',\n",
              " 'plain',\n",
              " 'powerful',\n",
              " 'predictable',\n",
              " 'summer',\n",
              " 'surprises',\n",
              " 'the',\n",
              " 'very']"
            ]
          },
          "metadata": {},
          "execution_count": 73
        }
      ]
    },
    {
      "cell_type": "code",
      "metadata": {
        "id": "QRI8CzBoIJ1U"
      },
      "source": [
        "X_test_new = cv.transform(X_test)"
      ],
      "execution_count": null,
      "outputs": []
    },
    {
      "cell_type": "markdown",
      "metadata": {
        "id": "-kJh7LPaIJ1U"
      },
      "source": [
        "##### Mã hoá nhãn"
      ]
    },
    {
      "cell_type": "code",
      "metadata": {
        "id": "gGVJ4nRNIJ1U"
      },
      "source": [
        "le = LabelEncoder()\n",
        "le.fit(y_train)\n",
        "y_train_new = le.transform(y_train)"
      ],
      "execution_count": null,
      "outputs": []
    },
    {
      "cell_type": "code",
      "metadata": {
        "colab": {
          "base_uri": "https://localhost:8080/"
        },
        "id": "xEZzC-CoIJ1V",
        "outputId": "5127d946-ed14-4b2e-8f5a-c50a11aa3837"
      },
      "source": [
        "y_train_new"
      ],
      "execution_count": null,
      "outputs": [
        {
          "output_type": "execute_result",
          "data": {
            "text/plain": [
              "array([1, 1, 1, 0, 0])"
            ]
          },
          "metadata": {},
          "execution_count": 76
        }
      ]
    },
    {
      "cell_type": "markdown",
      "metadata": {
        "id": "yXpXNwp8IJ1V"
      },
      "source": [
        "##### Training model"
      ]
    },
    {
      "cell_type": "code",
      "metadata": {
        "colab": {
          "base_uri": "https://localhost:8080/"
        },
        "id": "dyNWNzZJIJ1W",
        "outputId": "9930eb5c-0375-42b8-8d2a-ae719b81382c"
      },
      "source": [
        "clf = MultinomialNB()\n",
        "clf.fit(X_train_new, y_train_new)"
      ],
      "execution_count": null,
      "outputs": [
        {
          "output_type": "execute_result",
          "data": {
            "text/plain": [
              "MultinomialNB()"
            ]
          },
          "metadata": {},
          "execution_count": 77
        }
      ]
    },
    {
      "cell_type": "markdown",
      "metadata": {
        "id": "dvS0xPlLIJ1W"
      },
      "source": [
        "##### Predict"
      ]
    },
    {
      "cell_type": "code",
      "metadata": {
        "id": "0u6PEhn9IJ1X"
      },
      "source": [
        "y_pred = clf.predict(X_test_new)"
      ],
      "execution_count": null,
      "outputs": []
    },
    {
      "cell_type": "code",
      "metadata": {
        "colab": {
          "base_uri": "https://localhost:8080/"
        },
        "id": "Z56i16kwIJ1X",
        "outputId": "fe51071b-73b0-4363-c9b1-8d4c87afe334"
      },
      "source": [
        "print('The class of \"{}\" is {}'.format(test, le.inverse_transform(y_pred)[0]))"
      ],
      "execution_count": null,
      "outputs": [
        {
          "output_type": "stream",
          "name": "stdout",
          "text": [
            "The class of \"predictable with no fun\" is -\n"
          ]
        }
      ]
    },
    {
      "cell_type": "markdown",
      "metadata": {
        "id": "HEvBayHTdDwc"
      },
      "source": [
        "#### Hiện thực lại mô hình Naive Bayes bằng thư viện sklearn cho Bộ dữ liệu 2"
      ]
    },
    {
      "cell_type": "markdown",
      "metadata": {
        "id": "j871ZvS-IcmU"
      },
      "source": [
        "##### Import thư viện cần thiết"
      ]
    },
    {
      "cell_type": "code",
      "metadata": {
        "id": "2FVEx3j2IcmV"
      },
      "source": [
        "import pandas as pd\n",
        "import numpy as np\n",
        "\n",
        "\n",
        "from sklearn.naive_bayes import MultinomialNB\n",
        "from sklearn.feature_extraction.text import CountVectorizer\n",
        "from sklearn.preprocessing import LabelEncoder"
      ],
      "execution_count": null,
      "outputs": []
    },
    {
      "cell_type": "markdown",
      "metadata": {
        "id": "ic92i0BkIcmX"
      },
      "source": [
        "##### Xử lý dữ liệu"
      ]
    },
    {
      "cell_type": "code",
      "metadata": {
        "id": "blvTjDOCIcmY"
      },
      "source": [
        "X_train2 = []\n",
        "y_train2 = []\n",
        "X_test2 = test2\n",
        "\n",
        "for s in train2:\n",
        "  X_train2.append(s[0])\n",
        "  y_train2.append(s[1])"
      ],
      "execution_count": null,
      "outputs": []
    },
    {
      "cell_type": "markdown",
      "metadata": {
        "id": "Tv0LuAbgIcma"
      },
      "source": [
        "##### Mã hoá văn bản"
      ]
    },
    {
      "cell_type": "code",
      "metadata": {
        "id": "enuaAaNLIcmc"
      },
      "source": [
        "cv = CountVectorizer()\n",
        "cv.fit(X_train2)\n",
        "X_train_new2 = cv.transform(X_train2)"
      ],
      "execution_count": null,
      "outputs": []
    },
    {
      "cell_type": "code",
      "metadata": {
        "colab": {
          "base_uri": "https://localhost:8080/"
        },
        "id": "tdqXMbDvIcmd",
        "outputId": "fefbad16-8502-40be-f1b8-0c4884854809"
      },
      "source": [
        "cv.get_feature_names()"
      ],
      "execution_count": null,
      "outputs": [
        {
          "output_type": "stream",
          "name": "stderr",
          "text": [
            "/usr/local/lib/python3.7/dist-packages/sklearn/utils/deprecation.py:87: FutureWarning: Function get_feature_names is deprecated; get_feature_names is deprecated in 1.0 and will be removed in 1.2. Please use get_feature_names_out instead.\n",
            "  warnings.warn(msg, category=FutureWarning)\n"
          ]
        },
        {
          "output_type": "execute_result",
          "data": {
            "text/plain": [
              "['của',\n",
              " 'không',\n",
              " 'kinh_khủng',\n",
              " 'màu_sắc',\n",
              " 'rất',\n",
              " 'sản_phẩm',\n",
              " 'thích',\n",
              " 'thật',\n",
              " 'tôi',\n",
              " 'tốt']"
            ]
          },
          "metadata": {},
          "execution_count": 83
        }
      ]
    },
    {
      "cell_type": "code",
      "metadata": {
        "id": "NIOSw4YrIcme"
      },
      "source": [
        "X_test_new2 = cv.transform(X_test2)"
      ],
      "execution_count": null,
      "outputs": []
    },
    {
      "cell_type": "markdown",
      "metadata": {
        "id": "xPKOZvFJIcmg"
      },
      "source": [
        "##### Mã hoá nhãn"
      ]
    },
    {
      "cell_type": "code",
      "metadata": {
        "id": "f-HF_dLfIcmg"
      },
      "source": [
        "le = LabelEncoder()\n",
        "le.fit(y_train2)\n",
        "y_train_new2 = le.transform(y_train2)"
      ],
      "execution_count": null,
      "outputs": []
    },
    {
      "cell_type": "code",
      "metadata": {
        "colab": {
          "base_uri": "https://localhost:8080/"
        },
        "id": "IGDtSSYxIcmh",
        "outputId": "305df1a9-e39b-4940-ea79-b7627e47baeb"
      },
      "source": [
        "y_train_new2"
      ],
      "execution_count": null,
      "outputs": [
        {
          "output_type": "execute_result",
          "data": {
            "text/plain": [
              "array([0, 1, 0, 1])"
            ]
          },
          "metadata": {},
          "execution_count": 86
        }
      ]
    },
    {
      "cell_type": "markdown",
      "metadata": {
        "id": "HaPyRJxSIcmj"
      },
      "source": [
        "##### Training model"
      ]
    },
    {
      "cell_type": "code",
      "metadata": {
        "colab": {
          "base_uri": "https://localhost:8080/"
        },
        "id": "zboRWYb0Icmk",
        "outputId": "c01b9e3d-9bfc-45c4-de36-541dbcb5c725"
      },
      "source": [
        "clf = MultinomialNB()\n",
        "clf.fit(X_train_new2, y_train_new2)"
      ],
      "execution_count": null,
      "outputs": [
        {
          "output_type": "execute_result",
          "data": {
            "text/plain": [
              "MultinomialNB()"
            ]
          },
          "metadata": {},
          "execution_count": 87
        }
      ]
    },
    {
      "cell_type": "markdown",
      "metadata": {
        "id": "LPxGi_o-Icmk"
      },
      "source": [
        "##### Predict"
      ]
    },
    {
      "cell_type": "code",
      "metadata": {
        "id": "DBjlRTihIcml"
      },
      "source": [
        "y_pred = clf.predict(X_test_new2)"
      ],
      "execution_count": null,
      "outputs": []
    },
    {
      "cell_type": "code",
      "metadata": {
        "colab": {
          "base_uri": "https://localhost:8080/"
        },
        "id": "sSThljoIIcml",
        "outputId": "9e9b7c20-7230-4165-bea6-14aa3c9f52be"
      },
      "source": [
        "print('The class of \"{}\" is {}'.format(test2[0], le.inverse_transform(y_pred)[0][0]))\n",
        "print('The class of \"{}\" is {}'.format(test2[1], le.inverse_transform(y_pred)[1][0]))"
      ],
      "execution_count": null,
      "outputs": [
        {
          "output_type": "stream",
          "name": "stdout",
          "text": [
            "The class of \"sản_phẩm A khá tốt.\" is +\n",
            "The class of \"màu_sắc quá kinh_khủng.\" is +\n"
          ]
        }
      ]
    },
    {
      "cell_type": "code",
      "metadata": {
        "id": "J7EKopX4P7mU"
      },
      "source": [],
      "execution_count": null,
      "outputs": []
    }
  ]
}